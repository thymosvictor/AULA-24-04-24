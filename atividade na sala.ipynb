{
 "cells": [
  {
   "cell_type": "code",
   "execution_count": 45,
   "metadata": {},
   "outputs": [],
   "source": [
    "#a)\n",
    "minhaLista = [76,92.3,\"oi\",True,4,76]"
   ]
  },
  {
   "cell_type": "code",
   "execution_count": 7,
   "metadata": {},
   "outputs": [],
   "source": [
    "listaDois = [\"pitomba\", 76]"
   ]
  },
  {
   "cell_type": "code",
   "execution_count": 30,
   "metadata": {},
   "outputs": [
    {
     "data": {
      "text/plain": [
       "[76, 92.3, 'oi', True, 4, 76, 'pitomba', 76, 'pitomba', 76]"
      ]
     },
     "execution_count": 30,
     "metadata": {},
     "output_type": "execute_result"
    }
   ],
   "source": [
    "minhaLista + listaDois "
   ]
  },
  {
   "cell_type": "code",
   "execution_count": 47,
   "metadata": {},
   "outputs": [],
   "source": [
    "#b)\n",
    "minhaLista = [76,92.3,\"oi\",True,4,76,\"pitomba\",76]"
   ]
  },
  {
   "cell_type": "code",
   "execution_count": 31,
   "metadata": {},
   "outputs": [
    {
     "name": "stdout",
     "output_type": "stream",
     "text": [
      "[76, 92.3, 'oi', 'cibele', True, 4, 76, 'pitomba', 76]\n"
     ]
    }
   ],
   "source": [
    "print (minhaLista[:3] + [\"cibele\"] + minhaLista [3:])"
   ]
  },
  {
   "cell_type": "code",
   "execution_count": 38,
   "metadata": {},
   "outputs": [],
   "source": [
    "#c)\n",
    "minhaLista = [76,92.3,\"oi\", \"cibele\", True, 4, 76, \"pitomba\",76]"
   ]
  },
  {
   "cell_type": "code",
   "execution_count": 37,
   "metadata": {},
   "outputs": [
    {
     "name": "stdout",
     "output_type": "stream",
     "text": [
      "[99, 76, 92.3, 'oi', 'cibele', True, 4, 76, 'pitomba', 76]\n"
     ]
    }
   ],
   "source": [
    "print (minhaLista[:0] + [99] + minhaLista[0:])"
   ]
  },
  {
   "cell_type": "code",
   "execution_count": 59,
   "metadata": {},
   "outputs": [
    {
     "name": "stdout",
     "output_type": "stream",
     "text": [
      "o indice é tres\n"
     ]
    }
   ],
   "source": [
    "#d)\n",
    "\n",
    "minhaLista = [1,2,3,\"oi\"]\n",
    "\n",
    "if minhaLista[0] == \"oi\":\n",
    "    print (' o indice é zero')\n",
    "elif minhaLista [1] == \"oi\":\n",
    "    print ('o indice é um')\n",
    "elif minhaLista [2] == \"oi\":\n",
    "    print ('o indice é dois')\n",
    "elif minhaLista [3] == \"oi\":\n",
    "    print ('o indice é tres')  \n",
    " "
   ]
  },
  {
   "cell_type": "code",
   "execution_count": 53,
   "metadata": {},
   "outputs": [
    {
     "data": {
      "text/plain": [
       "['nathan', 'pickles', 'toki']"
      ]
     },
     "execution_count": 53,
     "metadata": {},
     "output_type": "execute_result"
    }
   ],
   "source": [
    "#e)\n",
    "dethklok = [ \"nathan\",\"pickles\", \"toki\",True, \"skwisgaar\", \"murderface\"]\n",
    "dethklok [:3]"
   ]
  },
  {
   "cell_type": "code",
   "execution_count": 51,
   "metadata": {},
   "outputs": [],
   "source": [
    "dethklokDois= [\"skwisgaar\",\"murderface\"]"
   ]
  },
  {
   "cell_type": "code",
   "execution_count": 54,
   "metadata": {},
   "outputs": [
    {
     "data": {
      "text/plain": [
       "['nathan', 'pickles', 'toki', 'skwisgaar', 'murderface']"
      ]
     },
     "execution_count": 54,
     "metadata": {},
     "output_type": "execute_result"
    }
   ],
   "source": [
    "dethklok [:3] + dethklokDois"
   ]
  }
 ],
 "metadata": {
  "kernelspec": {
   "display_name": "Python 3",
   "language": "python",
   "name": "python3"
  },
  "language_info": {
   "codemirror_mode": {
    "name": "ipython",
    "version": 3
   },
   "file_extension": ".py",
   "mimetype": "text/x-python",
   "name": "python",
   "nbconvert_exporter": "python",
   "pygments_lexer": "ipython3",
   "version": "3.11.4"
  }
 },
 "nbformat": 4,
 "nbformat_minor": 2
}
